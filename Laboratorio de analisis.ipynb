{
  "cells": [
    {
      "cell_type": "markdown",
      "metadata": {},
      "source": [
        "# Laboratorio para el analisis de lineas de texto"
      ]
    },
    {
      "cell_type": "markdown",
      "metadata": {},
      "source": [
        "## Instalar paquetes requeridos"
      ]
    },
    {
      "cell_type": "code",
      "execution_count": null,
      "metadata": {
        "id": "YlCN72xZMbvM"
      },
      "outputs": [],
      "source": [
        "pip install --upgrade google-cloud-language"
      ]
    },
    {
      "cell_type": "markdown",
      "metadata": {},
      "source": [
        "## Importar variable que da acceso a la API de Google Cloud NLP"
      ]
    },
    {
      "cell_type": "code",
      "execution_count": 1,
      "metadata": {
        "id": "SIQ9c4KJK5uw"
      },
      "outputs": [],
      "source": [
        "import os\n",
        "\n",
        "os.environ[\n",
        "    'GOOGLE_APPLICATION_CREDENTIALS'] = '/workspaces/analisis-del-discurso-del-odio-en-twitter-de-politicos-con-google-nlp/.env/ipaj-327601-ed35ac56f5a5.json'  # En esta linea debe ir la ubicacion del archivo entre comillas\n"
      ]
    },
    {
      "cell_type": "markdown",
      "metadata": {
        "id": "HRdc2TuKgn_h"
      },
      "source": [
        "## Analisis de sentimientos y magnitudes de lineas de texto desde un archivo en Google Cloud"
      ]
    },
    {
      "cell_type": "code",
      "execution_count": 2,
      "metadata": {
        "id": "8_AJpP3jghN8"
      },
      "outputs": [],
      "source": [
        "from google.cloud import language_v1\n",
        "\n",
        "\n",
        "def sample_analyze_sentiment(gcs_content_uri):\n",
        "    \"\"\"\n",
        "    Analyzing Sentiment in text file stored in Cloud Storage\n",
        "\n",
        "    Args:\n",
        "      gcs_content_uri Google Cloud Storage URI where the file content is located.\n",
        "      e.g. gs://[Your Bucket]/[Path to File]\n",
        "    \"\"\"\n",
        "\n",
        "    client = language_v1.LanguageServiceClient()\n",
        "\n",
        "    # gcs_content_uri = 'gs://cloud-samples-data/language/sentiment-positive.txt'\n",
        "\n",
        "    # Available types: PLAIN_TEXT, HTML\n",
        "    type_ = language_v1.Document.Type.PLAIN_TEXT\n",
        "\n",
        "    # Optional. If not specified, the language is automatically detected.\n",
        "    # For list of supported languages:\n",
        "    # https://cloud.google.com/natural-language/docs/languages\n",
        "    language = \"es\"\n",
        "    document = {\n",
        "        \"gcs_content_uri\": gcs_content_uri,\n",
        "        \"type_\": type_,\n",
        "        \"language\": language\n",
        "    }\n",
        "\n",
        "    # Available values: NONE, UTF8, UTF16, UTF32\n",
        "    encoding_type = language_v1.EncodingType.UTF8\n",
        "\n",
        "    response = client.analyze_sentiment(request={\n",
        "        'document': document,\n",
        "        'encoding_type': encoding_type\n",
        "    })\n",
        "    # Get overall sentiment of the input document\n",
        "    print(u\"Document sentiment score: {}\".format(\n",
        "        response.document_sentiment.score))\n",
        "    print(u\"Document sentiment magnitude: {}\".format(\n",
        "        response.document_sentiment.magnitude))\n",
        "    # Get sentiment for all sentences in the document\n",
        "    for sentence in response.sentences:\n",
        "        print((sentence.text.content), \"+\", (sentence.sentiment.score), \"+\",\n",
        "              (sentence.sentiment.magnitude))\n"
      ]
    },
    {
      "cell_type": "markdown",
      "metadata": {},
      "source": [
        "## Llamado de Funcion para el analisis de un archivo de texto plano ubicado en Google Cloud"
      ]
    },
    {
      "cell_type": "code",
      "execution_count": 4,
      "metadata": {
        "colab": {
          "base_uri": "https://localhost:8080/"
        },
        "id": "hbC2OeFBguYh",
        "outputId": "2c024c26-b53b-4213-8703-4642fd334699"
      },
      "outputs": [
        {
          "name": "stdout",
          "output_type": "stream",
          "text": [
            "Document sentiment score: 0.30000001192092896\n",
            "Document sentiment magnitude: 45.29999923706055\n",
            "La historia, según Petro. + 0.10000000149011612 + 0.10000000149011612\n",
            "Hoy el país conoce la verdad: hicieron montaje para afectar campaña del 2014. + -0.20000000298023224 + 0.20000000298023224\n",
            "Las investigaciones lo han señalado, lo hemos demostrado en materia judicial: lo del hacker fue obra de Santos, con complicidad de Montealegre y Echandía. + 0.20000000298023224 + 0.20000000298023224\n",
            "Hemos sido transparentes. + 0.30000001192092896 + 0.30000001192092896\n",
            "Estamos tranquilos. + 0.8999999761581421 + 0.8999999761581421\n",
            "VUELTA A LA TRANQUILIDAD, VUELTA AL OPTIMISMO. + 0.10000000149011612 + 0.10000000149011612\n",
            "El atentado de los grupos criminales contra el Presidente @IvanDuque y miembros de su gabinete es un desafío contra las instituciones y la democracia. + -0.10000000149011612 + 0.10000000149011612\n",
            "Los colombianos debemos unirnos para luchar contra el terrorismo y el narcotráfico. + 0.10000000149011612 + 0.10000000149011612\n",
            "Mi solidaridad con el gobierno y las FFAA. + 0.30000001192092896 + 0.30000001192092896\n",
            "Primero, estructuras criminales aprovechando protestas pacíficas en los últimos 60 días, luego el carro bomba en Cúcuta y ahora el atentado al helicóptero del Presidente. + -0.20000000298023224 + 0.20000000298023224\n",
            "Un plan siniestro para desestabilizar el país. + 0.0 + 0.0\n",
            "Al terrorismo hay que combatirlo con firmeza y autoridad. + 0.0 + 0.0\n",
            "#EnVivo: Los invito a seguir la Tertulia Cervantina, donde conversamos sobre temas de país y la necesidad de estar unidos para salir adelante y aportarle a Colombia. + 0.30000001192092896 + 0.30000001192092896\n",
            "Los invito a conectarse al Facebook Live, donde hablo sobre la crisis actual de cara al 2022. + 0.20000000298023224 + 0.20000000298023224\n",
            "Un diálogo para escucharnos, aprender y encontrar soluciones juntos por Colombia. + 0.699999988079071 + 0.699999988079071\n",
            "Comunicado al país: Nunca una mentira será más fuerte que la verdad si se defiende con la cabeza en alto y sin desmayo. + -0.10000000149011612 + 0.10000000149011612\n",
            "Los temas que preocupan a Colombia merecen inmediata atención y nuestra voluntad de resolverlos, actuando unidos por el bien común. + 0.800000011920929 + 0.800000011920929\n",
            "Felicito a @JenniferAriasF presidente de @CamaraColombia 2021-2022; y a nuevos voceros del @CeDemocratico, @MillaRomeroSoto en Senado y @JuanDaVelez en Cámara. + 0.10000000149011612 + 0.10000000149011612\n",
            "Tienen el reto de escuchar a los ciudadanos y responder a las regiones con soluciones desde el Congreso. + 0.6000000238418579 + 0.6000000238418579\n",
            "La cifras de desempleo de mayo nos reafirman que el principal problema para los colombianos es la falta de empleo. + -0.20000000298023224 + 0.20000000298023224\n",
            "Todavía nos falta recuperar 1,5 millones de empleos: acelerar la vacunación es el camino para impulsar la economía y las oportunidades de trabajo. + 0.10000000149011612 + 0.10000000149011612\n",
            "Gracias, papá, por el ejemplo que hemos recibido de ti; por enseñarnos la rectitud, la bondad y la paciencia. + 0.800000011920929 + 0.800000011920929\n",
            "Un feliz día a todos los padres: #FelizDíaDelPadre. + 0.8999999761581421 + 0.8999999761581421\n",
            "La lucha contra el terrorismo debe ser continua, con apego a la Ley, sin tregua. + 0.20000000298023224 + 0.20000000298023224\n",
            "Atentado a Base Militar de Cúcuta es un llamado para que los colombianos nos unamos en defensa de la vida y la libertad de todos. + 0.4000000059604645 + 0.4000000059604645\n",
            "Solidaridad con @COL_Ejercito, nuestros soldados y sus familias. + 0.20000000298023224 + 0.20000000298023224\n",
            "Interesante invitación a conferencia de @CayetanaAT sobre 'Democracia y populismo'. + 0.699999988079071 + 0.699999988079071\n",
            "Los invito a conectarse mañana a las 3PM por Zoom: (código de acceso: Cayetana). + 0.30000001192092896 + 0.30000001192092896\n",
            "#DemocraciaOPopulismo. + 0.10000000149011612 + 0.10000000149011612\n",
            "Colombia necesita que encontremos soluciones inmediatas de alto impacto social. + 0.0 + 0.0\n",
            "Propuesta: 40 mil puestos de trabajo para 30 mil jóvenes de Cali y 10 mil de Buenaventura como primer paso para transformar la realidad compleja que hoy vive Valle del Cauca. + 0.10000000149011612 + 0.10000000149011612\n",
            "¡Felicitaciones representante @JuanDaVelez! + 0.8999999761581421 + 0.8999999761581421\n",
            "Sus triunfos nos alegran y llenan de orgullo a quienes le conocemos. + 0.8999999761581421 + 0.8999999761581421\n",
            "Desde donde estemos sirviendo, con amor y constancia por una Colombia distinta, siempre adelante\n",
            "Lamento el fallecimiento de don Hernando Ramirez Jaramillo. + 0.5 + 0.5\n",
            "Destacado dirigente cafetero, reconocido líder empresarial y cívico de Risaralda. + 0.30000001192092896 + 0.30000001192092896\n",
            "Mis condolencias para sus familiares y amigos. + 0.699999988079071 + 0.699999988079071\n",
            "#LaBanderaComoEs: \"Que viva el sublime pendón tricolor\" Hoy #20DeJulio, Día de Independencia, pensemos en Colombia: unidad para salir adelante y regiones con oportunidades. + 0.4000000059604645 + 0.4000000059604645\n",
            "#YoAlzoMiBandera como compromiso a seguir trabajando por un país cada vez mejor, una Colombia distinta. + 0.800000011920929 + 0.800000011920929\n",
            "En el #DíaDeLosHéroes mi reconocimiento a esos hombres y mujeres que entregaron su vida a la defensa del país y de nuestra democracia. + 0.30000001192092896 + 0.30000001192092896\n",
            "Los tenemos siempre presentes: Honor y Gloria. + 0.699999988079071 + 0.699999988079071\n",
            "Nuestro agradecimiento a familias de @FuerzasMilCol y @PoliciaColombia, por su amor a Colombia. + 0.800000011920929 + 0.800000011920929\n",
            "¡Colombia necesita ACTIVAR el EMPLEO de manera inmediata! + 0.0 + 0.0\n",
            "He presentado PROPUESTA de 40.000 EMPLEOS dirigidos a Cali y Buenaventura: actividades productivas que reconstruyan el tejido social HOY. + 0.10000000149011612 + 0.10000000149011612\n",
            "Es estrategia que sirve a TODO municipio del PAÍS para salir de esta crisis. + 0.6000000238418579 + 0.6000000238418579\n",
            "Pérdida del grado de inversión es oportunidad para construir acuerdo como sociedad con: estabilidad económica y reducción de deuda, reformas tributaria, pensional, laboral y productiva, y avanzar en la construcción de una red de protección social para los más vulnerables. + 0.30000001192092896 + 0.30000001192092896\n",
            "Debemos pensar en soluciones que generen confianza para la Colombia de hoy: empleo e ingresos digno, educación de calidad y universal, cuidado del ambiente con desarrollo, Estado austero con presencia en las regiones, aspersión aérea - en @HoraDeLaVerdad. + 0.20000000298023224 + 0.20000000298023224\n",
            "Se requiere un debate claro, en el que se entreguen propuestas de fondo para responder a la necesidad política, social y económica de Colombia. + 0.20000000298023224 + 0.20000000298023224\n",
            "En el 2022 requerimos preservar los principios esenciales de libertad, confianza y estabilidad democrática. + 0.4000000059604645 + 0.4000000059604645\n",
            "Lo ocurrido en Medellín es demencial:14 bebés abusados en un jardín infantil. + 0.20000000298023224 + 0.20000000298023224\n",
            "Falló todo. + 0.5 + 0.5\n",
            "Protocolos de atención y del servicio. + 0.10000000149011612 + 0.10000000149011612\n",
            "Claro,al criminal toca condenarlo y pronto. + 0.4000000059604645 + 0.4000000059604645\n",
            "Pero que no evadan la responsabilidad operadores y encargados de cuidar a los #Niños. + 0.10000000149011612 + 0.10000000149011612\n",
            "#TodoPorNuestrosNiños. + 0.10000000149011612 + 0.10000000149011612\n",
            "Hoy a las 8PM estaré \"parchando\" con @LaBodeguita_TV. + 0.30000001192092896 + 0.30000001192092896\n",
            "Los invito a conectarse y a participar de este diálogo de cara al 2022. + 0.30000001192092896 + 0.30000001192092896\n",
            "Para que el empleo crezca en Colombia necesitamos confianza, inversión, seguridad y políticas claras. + 0.30000001192092896 + 0.30000001192092896\n",
            "Nuestro país tiene que producir para exportar, con empleo digno y bien remunerado, con oportunidad de crecimiento diario. + 0.5 + 0.5\n",
            "¡Transformar productivamente a nuestra sociedad! + 0.5 + 0.5\n",
            "Dolorosa denuncia de abuso contra 13 niños en Medellín. + -0.4000000059604645 + 0.4000000059604645\n",
            "Me uno a petición de @YJimenez13 para que se acelere investigación, se proteja a nuestros menores y se establezcan claros protocolos de responsabilidad y atención para quienes cuidan de los menores. + 0.5 + 0.5\n",
            "¡#TodoPorNuestrosNiños! + 0.5 + 0.5\n",
            "Hoy a las 5PM estaré en #ConCENTRADOS con el senador @SanValGo, hablando sobre lo que viene para el 2022, los retos para el país y la defensa de nuestra democracia. + 0.20000000298023224 + 0.20000000298023224\n",
            "#EnVivo hablando con @FlondonoHoyos en el programa La Tarde de @Horadelaverdad sobre los grandes temas nacionales. + 0.20000000298023224 + 0.20000000298023224\n",
            "En @HoraDeLaVerdad: Me siento reivindicado y con muchas ganas de aportarle al país: Colombia enfrenta la peor crisis debido a la pandemia. + -0.4000000059604645 + 0.4000000059604645\n",
            "Quienes defendemos la libertad y la democracia debemos construir coalición que nos permita estar unidos en el 2022. + 0.20000000298023224 + 0.20000000298023224\n",
            "Con @LaBodeguita_TV: Una campaña es para asumir compromisos. + 0.20000000298023224 + 0.20000000298023224\n",
            "Un colombiano hoy está pensando en 3 cosas: vacunación, empleo y seguridad. + 0.30000001192092896 + 0.30000001192092896\n",
            "Sin renunciar a mis convicciones, hay que identificar agenda que solucione los problemas de hoy. + 0.4000000059604645 + 0.4000000059604645\n",
            "En lo social: Colombia debe focalizar sus ayudas a adultos mayores que viven en pobreza extrema, para garantizar una vejez digna; y debemos tener un subsidio de desempleo para el trabajador formal ante cualquier crisis. + 0.20000000298023224 + 0.20000000298023224\n",
            "Con @LaBodeguita_TV: Mi vida la he dedicado a la familia y al país. + 0.30000001192092896 + 0.30000001192092896\n",
            "Hoy tengo muchas preocupaciones con lo que está ocurriendo. + 0.20000000298023224 + 0.20000000298023224\n",
            "Decido regresar al debate público a aportar soluciones. + 0.4000000059604645 + 0.4000000059604645\n",
            "Me siento muy contento de volver a contribuir, Colombia necesita que nos unamos. + 0.8999999761581421 + 0.8999999761581421\n",
            "En @HoraDeLaVerdad: Las condiciones determinarán el qué y el cómo participar. + 0.10000000149011612 + 0.10000000149011612\n",
            "Hoy debemos pensar en contribuirle a Colombia. + 0.20000000298023224 + 0.20000000298023224\n",
            "En eso estoy yo en este momento: escuchando a la ciudadanía y proponiendo soluciones para lo que estamos atravesando. + 0.20000000298023224 + 0.20000000298023224\n",
            "El gran acuerdo sobre lo fundamental es ponernos de acuerdo en lo esencial que garantice un mejor funcionamiento de la democracia: Colombia hoy requiere reformas de fondo a la Justicia y a la Política para luchar contra la corrupción. + 0.30000001192092896 + 0.30000001192092896\n",
            "En este momento, \"parchando\" con @LaBodeguita_TV de cara al 2022: Tenemos que estar concentrados en la búsqueda de soluciones. + 0.0 + 0.0\n",
            "Mi propósito es que el país salga adelante, quiero contribuir con mi experiencia y amor por Colombia. + 0.5 + 0.5\n",
            "Pensemos en el país. + 0.30000001192092896 + 0.30000001192092896\n",
            "Con @LaBodeguita_TV: Mi propósito es que el país salga adelante, pensemos en Colombia. + 0.20000000298023224 + 0.20000000298023224\n",
            "Yo quiero contribuir con mi experiencia y conocimiento, a unir, está en juego el país que queremos. + 0.5 + 0.5\n",
            "Es un propósito superior, ya vendrá el momento político. + 0.5 + 0.5\n",
            "Los invito a conectarse al Space, donde conversaré con @JBagBam, @Ghitis y @MillerSoto sobre temas actuales del país y cómo debemos trabajar todos unidos. + 0.20000000298023224 + 0.20000000298023224\n",
            "Colombia merece que trabajemos en reformas estructurales: - Red de Protección Social - Reforma Laboral - Transformación Digital - Gobierno orientado al ciudadano, desde las regiones - Educación con opción para generar ingreso - Desarrollo sostenible - Transformación productiva\n",
            "Yo no puedo entender cómo hoy no hay una respuesta ejemplarizante de la JEP, una sanción, sobre aquellos que secuestraron menores y los reclutaron. + -0.20000000298023224 + 0.20000000298023224\n",
            "Colombia necesita un mensaje y acción clara en ese tema. + 0.10000000149011612 + 0.10000000149011612\n",
            "Debemos recuperar al @CeDemocratico en su esencia: a través del diálogo con ciudadanía, mediante soluciones eficientes, con mensajes claros de austeridad y confianza. + 0.4000000059604645 + 0.4000000059604645\n",
            "Esos son los temas que hoy deben preocuparnos. + 0.0 + 0.0\n",
            "En el 2022 nos jugamos la democracia y el país que queremos. + 0.5 + 0.5\n",
            "El momento que vive Colombia, y específicamente el Valle del Cauca, nos exige que dejemos de lado las diferencias políticas. + -0.10000000149011612 + 0.10000000149011612\n",
            "Es necesario que empecemos a trabajar unidos para devolverle la esperanza a todas estas personas que tanto lo necesitan. + 0.4000000059604645 + 0.4000000059604645\n",
            "En el @CeDemocratico necesitamos hablarle a los jóvenes: debemos garantizarles educación con calidad, con oportunidades de empleo digno y bien remunerado. + 0.10000000149011612 + 0.10000000149011612\n",
            "Debemos lograr un gran acuerdo sobre lo fundamental, que refleje propuestas y soluciones a las necesidades de hoy. + 0.6000000238418579 + 0.6000000238418579\n",
            "En @HoraDeLaVerdad: Yo hoy quiero proponerle al país para que juntos encontremos soluciones a las necesidades actuales. + 0.4000000059604645 + 0.4000000059604645\n",
            "Debemos lograr una agenda en común para el 2022, es el gran reto: darle a Colombia ese optimismo, estoy listo para construir. + 0.699999988079071 + 0.699999988079071\n",
            "Debemos enfrentar las reformas de fondo que se han aplazado, para poner a crecer nuestra economía con productividad: educación de calidad, desarrollo de logística desde las regiones, empleo digno y con oportunidades, y austeridad estatal. + 0.20000000298023224 + 0.20000000298023224\n",
            "Queda demostrado que lo que hicieron en el 2014 fue un montaje para afectar las elecciones presidenciales. + -0.20000000298023224 + 0.20000000298023224\n",
            "Fueron 7 años esperando la reivindicación, hoy siento un alivio con el país: dijimos la verdad y actuamos de manera honorable - en @HoraDeLaVerdad. + 0.800000011920929 + 0.800000011920929\n",
            "Lo que necesita nuestro país es el empleo digno y bien remunerado y en áreas nuevas: transformación digital, servicios, respaldo a emprendedores. + 0.4000000059604645 + 0.4000000059604645\n",
            "¡La gran prioridad de Colombia es la generación de oportunidades! + 0.8999999761581421 + 0.8999999761581421\n",
            "Requerimos de un acuerdo sobre lo fundamental para transformar la justicia y la política. + 0.30000001192092896 + 0.30000001192092896\n",
            "Hay que recuperar los principios de autoridad, orden y libertad. + 0.30000001192092896 + 0.30000001192092896\n",
            "Hay que ganarle al narcotráfico e iniciar la aspersión aérea. + 0.0 + 0.0\n",
            "Debemos reinventar la relación con Venezuela. + 0.0 + 0.0\n",
            "Hay que reorientar esfuerzos para ayudar a la estabilización democrática del país vecino, acorde a la realidad actual. + 0.4000000059604645 + 0.4000000059604645\n",
            "Colombia debe jugar un papel real y eficaz para la reconstrucción de esa nación, tenemos todo para aportar. + 0.4000000059604645 + 0.4000000059604645\n",
            "En Venezuela @NicolasMaduro es un dictador, no podemos tener otro mensaje. + 0.0 + 0.0\n",
            "Debemos ayudar y lograr llegada de la democracia a ese país; hay que activar nuestras zonas de frontera y retomar servicios consulares en ese país para #ColombianosEnElExterior. + 0.20000000298023224 + 0.20000000298023224\n",
            "Colombia debe profesionalizar aún más la @PoliciaColombia. + 0.20000000298023224 + 0.20000000298023224\n",
            "Debemos concentrar esfuerzos para que nuestras @FuerzasMilCol afronten criminalidad con ciberseguridad en lo urbano. + 0.30000001192092896 + 0.30000001192092896\n",
            "El relacionamiento de las FF.AA. + 0.30000001192092896 + 0.30000001192092896\n",
            "con la comunidad es fundamental para mantener confianza y tranquilidad. + 0.8999999761581421 + 0.8999999761581421\n",
            "Quiero contribuirle al país, toda mi vida es pública y he estado al servicio de Colombia. + 0.4000000059604645 + 0.4000000059604645\n",
            "Lo que hoy estoy haciendo es dialogar con la ciudadanía, encontrar soluciones a las necesidades. + 0.6000000238418579 + 0.6000000238418579\n",
            "Debemos enfrentar juntos el reto político que viene en el 2022. + 0.20000000298023224 + 0.20000000298023224\n",
            "Language of the text: es\n"
          ]
        }
      ],
      "source": [
        "sample_analyze_sentiment('gs://testojpublikaj/oiz.txt')"
      ]
    }
  ],
  "metadata": {
    "colab": {
      "name": "muestras de código de la API de Natural Language.ipynb",
      "provenance": []
    },
    "kernelspec": {
      "display_name": "Python 3",
      "name": "python3"
    },
    "language_info": {
      "codemirror_mode": {
        "name": "ipython",
        "version": 3
      },
      "file_extension": ".py",
      "mimetype": "text/x-python",
      "name": "python",
      "nbconvert_exporter": "python",
      "pygments_lexer": "ipython3",
      "version": "3.9.10"
    }
  },
  "nbformat": 4,
  "nbformat_minor": 0
}
