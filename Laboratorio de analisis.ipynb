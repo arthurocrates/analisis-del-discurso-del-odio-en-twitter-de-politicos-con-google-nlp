{
  "nbformat": 4,
  "nbformat_minor": 0,
  "metadata": {
    "colab": {
      "name": "muestras de código de la API de Natural Language.ipynb",
      "provenance": []
    },
    "kernelspec": {
      "name": "python3",
      "display_name": "Python 3"
    },
    "language_info": {
      "name": "python"
    }
  },
  "cells": [
    {
      "cell_type": "code",
      "metadata": {
        "id": "YlCN72xZMbvM"
      },
      "source": [
        "pip install --upgrade google-cloud-language"
      ],
      "execution_count": null,
      "outputs": []
    },
    {
      "cell_type": "code",
      "metadata": {
        "id": "SIQ9c4KJK5uw"
      },
      "source": [
        "import os\n",
        "os.environ['GOOGLE_APPLICATION_CREDENTIALS'] = \"/content/apis-235522-76309661e7da.json\" # En esta linea debe ir la ubicacion del archivo entre comillas"
      ],
      "execution_count": null,
      "outputs": []
    },
    {
      "cell_type": "markdown",
      "metadata": {
        "id": "dmoNdTv8VNgX"
      },
      "source": [
        "Analyze entity sentiment in a string"
      ]
    },
    {
      "cell_type": "code",
      "metadata": {
        "id": "ULib60tOUDx6"
      },
      "source": [
        "from google.cloud import language_v1\n",
        "\n",
        "def sample_analyze_entity_sentiment(text_content):\n",
        "    \"\"\"\n",
        "    Analyzing Entity Sentiment in a String\n",
        "\n",
        "    Args:\n",
        "      text_content The text content to analyze\n",
        "    \"\"\"\n",
        "\n",
        "    client = language_v1.LanguageServiceClient()\n",
        "\n",
        "    # text_content = 'Grapes are good. Bananas are bad.'\n",
        "\n",
        "    # Available types: PLAIN_TEXT, HTML\n",
        "    type_ = language_v1.Document.Type.PLAIN_TEXT\n",
        "\n",
        "    # Optional. If not specified, the language is automatically detected.\n",
        "    # For list of supported languages:\n",
        "    # https://cloud.google.com/natural-language/docs/languages\n",
        "    language = \"es\"\n",
        "    document = {\"content\": text_content, \"type_\": type_, \"language\": language}\n",
        "\n",
        "    # Available values: NONE, UTF8, UTF16, UTF32\n",
        "    encoding_type = language_v1.EncodingType.UTF8\n",
        "\n",
        "    response = client.analyze_entity_sentiment(request = {'document': document, 'encoding_type': encoding_type})\n",
        "    # Loop through entitites returned from the API\n",
        "    for entity in response.entities:\n",
        "        print(u\"Representative name for the entity: {}\".format(entity.name))\n",
        "        # Get entity type, e.g. PERSON, LOCATION, ADDRESS, NUMBER, et al\n",
        "        print(u\"Entity type: {}\".format(language_v1.Entity.Type(entity.type_).name))\n",
        "        # Get the salience score associated with the entity in the [0, 1.0] range\n",
        "        print(u\"Salience score: {}\".format(entity.salience))\n",
        "        # Get the aggregate sentiment expressed for this entity in the provided document.\n",
        "        sentiment = entity.sentiment\n",
        "        print(u\"Entity sentiment score: {}\".format(sentiment.score))\n",
        "        print(u\"Entity sentiment magnitude: {}\".format(sentiment.magnitude))\n",
        "        # Loop over the metadata associated with entity. For many known entities,\n",
        "        # the metadata is a Wikipedia URL (wikipedia_url) and Knowledge Graph MID (mid).\n",
        "        # Some entity types may have additional metadata, e.g. ADDRESS entities\n",
        "        # may have metadata for the address street_name, postal_code, et al.\n",
        "        for metadata_name, metadata_value in entity.metadata.items():\n",
        "            print(u\"{} = {}\".format(metadata_name, metadata_value))\n",
        "\n",
        "        # Loop over the mentions of this entity in the input document.\n",
        "        # The API currently supports proper noun mentions.\n",
        "        for mention in entity.mentions:\n",
        "            print(u\"Mention text: {}\".format(mention.text.content))\n",
        "            # Get the mention type, e.g. PROPER for proper noun\n",
        "            print(\n",
        "                u\"Mention type: {}\".format(language_v1.EntityMention.Type(mention.type_).name)\n",
        "            )\n",
        "\n",
        "    # Get the language of the text, which will be the same as\n",
        "    # the language specified in the request or, if not specified,\n",
        "    # the automatically-detected language.\n",
        "    print(u\"Language of the text: {}\".format(response.language))\n"
      ],
      "execution_count": null,
      "outputs": []
    },
    {
      "cell_type": "code",
      "metadata": {
        "id": "gVtlk706TDqG",
        "colab": {
          "base_uri": "https://localhost:8080/"
        },
        "outputId": "dd0d3f28-f5d8-4062-8519-272e0a42efc0"
      },
      "source": [
        "text_content=\"Apoyemos el derecho de soldados y policias de utilizar sus armas para defender su integridad y para defender a las personas y bienes de la accion criminal del terrorismo vandalico\"\n",
        "sample_analyze_entity_sentiment(text_content)"
      ],
      "execution_count": null,
      "outputs": [
        {
          "output_type": "stream",
          "text": [
            "Representative name for the entity: policias\n",
            "Entity type: PERSON\n",
            "Salience score: 0.3502153754234314\n",
            "Entity sentiment score: 0.10000000149011612\n",
            "Entity sentiment magnitude: 0.30000001192092896\n",
            "Mention text: policias\n",
            "Mention type: COMMON\n",
            "Representative name for the entity: integridad\n",
            "Entity type: OTHER\n",
            "Salience score: 0.1198473572731018\n",
            "Entity sentiment score: 0.10000000149011612\n",
            "Entity sentiment magnitude: 0.10000000149011612\n",
            "Mention text: integridad\n",
            "Mention type: COMMON\n",
            "Representative name for the entity: derecho\n",
            "Entity type: OTHER\n",
            "Salience score: 0.11862783879041672\n",
            "Entity sentiment score: 0.0\n",
            "Entity sentiment magnitude: 0.0\n",
            "Mention text: derecho\n",
            "Mention type: COMMON\n",
            "Representative name for the entity: soldados\n",
            "Entity type: PERSON\n",
            "Salience score: 0.10923637449741364\n",
            "Entity sentiment score: 0.0\n",
            "Entity sentiment magnitude: 0.0\n",
            "Mention text: soldados\n",
            "Mention type: COMMON\n",
            "Representative name for the entity: terrorismo\n",
            "Entity type: OTHER\n",
            "Salience score: 0.06522756069898605\n",
            "Entity sentiment score: 0.0\n",
            "Entity sentiment magnitude: 0.0\n",
            "Mention text: terrorismo\n",
            "Mention type: COMMON\n",
            "Representative name for the entity: armas\n",
            "Entity type: CONSUMER_GOOD\n",
            "Salience score: 0.06240098923444748\n",
            "Entity sentiment score: 0.10000000149011612\n",
            "Entity sentiment magnitude: 0.10000000149011612\n",
            "Mention text: armas\n",
            "Mention type: COMMON\n",
            "Representative name for the entity: personas\n",
            "Entity type: PERSON\n",
            "Salience score: 0.06171204522252083\n",
            "Entity sentiment score: 0.0\n",
            "Entity sentiment magnitude: 0.0\n",
            "Mention text: personas\n",
            "Mention type: COMMON\n",
            "Representative name for the entity: bienes\n",
            "Entity type: OTHER\n",
            "Salience score: 0.06171204522252083\n",
            "Entity sentiment score: 0.0\n",
            "Entity sentiment magnitude: 0.0\n",
            "Mention text: bienes\n",
            "Mention type: COMMON\n",
            "Representative name for the entity: accion\n",
            "Entity type: OTHER\n",
            "Salience score: 0.05102041736245155\n",
            "Entity sentiment score: -0.20000000298023224\n",
            "Entity sentiment magnitude: 0.20000000298023224\n",
            "Mention text: accion\n",
            "Mention type: COMMON\n",
            "Language of the text: es\n"
          ],
          "name": "stdout"
        }
      ]
    },
    {
      "cell_type": "markdown",
      "metadata": {
        "id": "uEeFbhIUVQS9"
      },
      "source": [
        "Analyze sentiment app"
      ]
    },
    {
      "cell_type": "code",
      "metadata": {
        "id": "7p-nKXEKVxw9"
      },
      "source": [
        "\"\"\"Demonstrates how to make a simple call to the Natural Language API.\"\"\"\n",
        "\n",
        "import argparse\n",
        "\n",
        "from google.cloud import language_v1\n",
        "\n",
        "def print_result(annotations):\n",
        "    score = annotations.document_sentiment.score\n",
        "    magnitude = annotations.document_sentiment.magnitude\n",
        "\n",
        "    for index, sentence in enumerate(annotations.sentences):\n",
        "        sentence_sentiment = sentence.sentiment.score\n",
        "        print(\n",
        "            \"Sentence {} has a sentiment score of {}\".format(index, sentence_sentiment)\n",
        "        )\n",
        "\n",
        "    print(\n",
        "        \"Overall Sentiment: score of {} with magnitude of {}\".format(score, magnitude)\n",
        "    )\n",
        "    return 0\n",
        "\n",
        "def analyze(movie_review_filename):\n",
        "    \"\"\"Run a sentiment analysis request on text within a passed filename.\"\"\"\n",
        "    client = language_v1.LanguageServiceClient()\n",
        "\n",
        "    with open(movie_review_filename, \"r\") as review_file:\n",
        "        # Instantiates a plain text document.\n",
        "        content = review_file.read()\n",
        "\n",
        "    document = language_v1.Document(content=content, type_=language_v1.Document.Type.PLAIN_TEXT)\n",
        "    annotations = client.analyze_sentiment(request={'document': document})\n",
        "\n",
        "    # Print the results\n",
        "    print_result(annotations)\n",
        "\n",
        "if __name__ == \"__main__\":\n",
        "    parser = argparse.ArgumentParser(\n",
        "        description=__doc__, formatter_class=argparse.RawDescriptionHelpFormatter\n",
        "    )\n",
        "    parser.add_argument(\n",
        "        \"movie_review_filename\",\n",
        "        help=\"The filename of the movie review you'd like to analyze.\",\n",
        "    )\n",
        "    args = parser.parse_args()\n",
        "\n",
        "    analyze(args.movie_review_filename)"
      ],
      "execution_count": null,
      "outputs": []
    },
    {
      "cell_type": "code",
      "metadata": {
        "colab": {
          "base_uri": "https://localhost:8080/"
        },
        "id": "3_7_7lFAV6OI",
        "outputId": "b1417ba1-25bc-4b5f-a383-7fdda00b36b5"
      },
      "source": [
        "analyze('/content/result.csv')"
      ],
      "execution_count": null,
      "outputs": [
        {
          "output_type": "stream",
          "text": [
            "Sentence 0 has a sentiment score of 0.0\n",
            "Sentence 1 has a sentiment score of 0.30000001192092896\n",
            "Sentence 2 has a sentiment score of 0.0\n",
            "Sentence 3 has a sentiment score of 0.20000000298023224\n",
            "Sentence 4 has a sentiment score of 0.10000000149011612\n",
            "Sentence 5 has a sentiment score of 0.10000000149011612\n",
            "Sentence 6 has a sentiment score of 0.10000000149011612\n",
            "Sentence 7 has a sentiment score of 0.0\n",
            "Sentence 8 has a sentiment score of 0.20000000298023224\n",
            "Sentence 9 has a sentiment score of 0.0\n",
            "Sentence 10 has a sentiment score of 0.20000000298023224\n",
            "Sentence 11 has a sentiment score of 0.10000000149011612\n",
            "Sentence 12 has a sentiment score of 0.0\n",
            "Sentence 13 has a sentiment score of 0.30000001192092896\n",
            "Sentence 14 has a sentiment score of 0.0\n",
            "Sentence 15 has a sentiment score of 0.0\n",
            "Sentence 16 has a sentiment score of 0.0\n",
            "Sentence 17 has a sentiment score of 0.20000000298023224\n",
            "Sentence 18 has a sentiment score of 0.20000000298023224\n",
            "Sentence 19 has a sentiment score of 0.0\n",
            "Overall Sentiment: score of 0.10000000149011612 with magnitude of 3.0\n"
          ],
          "name": "stdout"
        }
      ]
    },
    {
      "cell_type": "markdown",
      "metadata": {
        "id": "P_-3zp0NdCQw"
      },
      "source": [
        "Analyze sentiment in a string"
      ]
    },
    {
      "cell_type": "code",
      "metadata": {
        "id": "7TVa2jhtdAu1"
      },
      "source": [
        "from google.cloud import language_v1\n",
        "\n",
        "def sample_analyze_sentiment(text_content):\n",
        "    \"\"\"\n",
        "    Analyzing Sentiment in a String\n",
        "\n",
        "    Args:\n",
        "      text_content The text content to analyze\n",
        "    \"\"\"\n",
        "\n",
        "    client = language_v1.LanguageServiceClient()\n",
        "\n",
        "    # text_content = 'I am so happy and joyful.'\n",
        "\n",
        "    # Available types: PLAIN_TEXT, HTML\n",
        "    type_ = language_v1.Document.Type.PLAIN_TEXT\n",
        "\n",
        "    # Optional. If not specified, the language is automatically detected.\n",
        "    # For list of supported languages:\n",
        "    # https://cloud.google.com/natural-language/docs/languages\n",
        "    language = \"es\"\n",
        "    document = {\"content\": text_content, \"type_\": type_, \"language\": language}\n",
        "\n",
        "    # Available values: NONE, UTF8, UTF16, UTF32\n",
        "    encoding_type = language_v1.EncodingType.UTF8\n",
        "\n",
        "    response = client.analyze_sentiment(request = {'document': document, 'encoding_type': encoding_type})\n",
        "    # Get overall sentiment of the input document\n",
        "    print(u\"Document sentiment score: {}\".format(response.document_sentiment.score))\n",
        "    print(\n",
        "        u\"Document sentiment magnitude: {}\".format(\n",
        "            response.document_sentiment.magnitude\n",
        "        )\n",
        "    )\n",
        "    # Get sentiment for all sentences in the document\n",
        "    for sentence in response.sentences:\n",
        "        print(u\"Sentence text: {}\".format(sentence.text.content))\n",
        "        print(u\"Sentence sentiment score: {}\".format(sentence.sentiment.score))\n",
        "        print(u\"Sentence sentiment magnitude: {}\".format(sentence.sentiment.magnitude))\n",
        "\n",
        "    # Get the language of the text, which will be the same as\n",
        "    # the language specified in the request or, if not specified,\n",
        "    # the automatically-detected language.\n",
        "    print(u\"Language of the text: {}\".format(response.language))\n"
      ],
      "execution_count": null,
      "outputs": []
    },
    {
      "cell_type": "code",
      "metadata": {
        "colab": {
          "base_uri": "https://localhost:8080/"
        },
        "id": "PCJ_mc8pdJCP",
        "outputId": "b79878d9-a073-4390-b44d-16318b80a7fb"
      },
      "source": [
        "text_content='Apoyemos el derecho de soldados y policias de utilizar sus armas para defender su integridad y para defender a las personas y bienes de la accion criminal del terrorismo vandalico'\n",
        "sample_analyze_sentiment(text_content)"
      ],
      "execution_count": null,
      "outputs": [
        {
          "output_type": "stream",
          "text": [
            "Document sentiment score: 0.10000000149011612\n",
            "Document sentiment magnitude: 0.10000000149011612\n",
            "Sentence text: Apoyemos el derecho de soldados y policias de utilizar sus armas para defender su integridad y para defender a las personas y bienes de la accion criminal del terrorismo vandalico\n",
            "Sentence sentiment score: 0.10000000149011612\n",
            "Sentence sentiment magnitude: 0.10000000149011612\n",
            "Language of the text: es\n"
          ],
          "name": "stdout"
        }
      ]
    },
    {
      "cell_type": "markdown",
      "metadata": {
        "id": "VDB_Wp2cfij5"
      },
      "source": [
        "Detect sentiment"
      ]
    },
    {
      "cell_type": "code",
      "metadata": {
        "colab": {
          "base_uri": "https://localhost:8080/"
        },
        "id": "81vmz0IDfjqg",
        "outputId": "91f206b6-9552-408f-8441-951606603eaa"
      },
      "source": [
        "# Imports the Google Cloud client library\n",
        "from google.cloud import language_v1\n",
        "\n",
        "# Instantiates a client\n",
        "client = language_v1.LanguageServiceClient()\n",
        "\n",
        "# The text to analyze\n",
        "text = u\"Apoyemos el derecho de soldados y policias de utilizar sus armas para defender su integridad y para defender a las personas y bienes de la accion criminal del terrorismo vandalico\"\n",
        "document = language_v1.Document(content=text, type_=language_v1.Document.Type.PLAIN_TEXT)\n",
        "\n",
        "# Detects the sentiment of the text\n",
        "sentiment = client.analyze_sentiment(request={'document': document}).document_sentiment\n",
        "\n",
        "print(\"Text: {}\".format(text))\n",
        "print(\"Sentiment: {}, {}\".format(sentiment.score, sentiment.magnitude))"
      ],
      "execution_count": null,
      "outputs": [
        {
          "output_type": "stream",
          "text": [
            "Text: Apoyemos el derecho de soldados y policias de utilizar sus armas para defender su integridad y para defender a las personas y bienes de la accion criminal del terrorismo vandalico\n",
            "Sentiment: 0.10000000149011612, 0.10000000149011612\n"
          ],
          "name": "stdout"
        }
      ]
    },
    {
      "cell_type": "markdown",
      "metadata": {
        "id": "6ViIuCqQgf8t"
      },
      "source": [
        "----"
      ]
    },
    {
      "cell_type": "markdown",
      "metadata": {
        "id": "HRdc2TuKgn_h"
      },
      "source": [
        "Analyze sentiment in a Cloud Storage file"
      ]
    },
    {
      "cell_type": "code",
      "metadata": {
        "id": "8_AJpP3jghN8"
      },
      "source": [
        "from google.cloud import language_v1\n",
        "\n",
        "def sample_analyze_sentiment(gcs_content_uri):\n",
        "    \"\"\"\n",
        "    Analyzing Sentiment in text file stored in Cloud Storage\n",
        "\n",
        "    Args:\n",
        "      gcs_content_uri Google Cloud Storage URI where the file content is located.\n",
        "      e.g. gs://[Your Bucket]/[Path to File]\n",
        "    \"\"\"\n",
        "\n",
        "    client = language_v1.LanguageServiceClient()\n",
        "\n",
        "    # gcs_content_uri = 'gs://cloud-samples-data/language/sentiment-positive.txt'\n",
        "\n",
        "    # Available types: PLAIN_TEXT, HTML\n",
        "    type_ = language_v1.Document.Type.PLAIN_TEXT\n",
        "\n",
        "    # Optional. If not specified, the language is automatically detected.\n",
        "    # For list of supported languages:\n",
        "    # https://cloud.google.com/natural-language/docs/languages\n",
        "    language = \"es\"\n",
        "    document = {\"gcs_content_uri\": gcs_content_uri, \"type_\": type_, \"language\": language}\n",
        "\n",
        "    # Available values: NONE, UTF8, UTF16, UTF32\n",
        "    encoding_type = language_v1.EncodingType.UTF8\n",
        "\n",
        "    response = client.analyze_sentiment(request = {'document': document, 'encoding_type': encoding_type})\n",
        "    # Get overall sentiment of the input document\n",
        "    print(u\"Document sentiment score: {}\".format(response.document_sentiment.score))\n",
        "    print(\n",
        "        u\"Document sentiment magnitude: {}\".format(\n",
        "            response.document_sentiment.magnitude\n",
        "        )\n",
        "    )\n",
        "    # Get sentiment for all sentences in the document\n",
        "    for sentence in response.sentences:\n",
        "        print(u\"Sentence text: {}\".format(sentence.text.content))\n",
        "        print(u\"Sentence sentiment score: {}\".format(sentence.sentiment.score))\n",
        "        print(u\"Sentence sentiment magnitude: {}\".format(sentence.sentiment.magnitude))\n",
        "\n",
        "    # Get the language of the text, which will be the same as\n",
        "    # the language specified in the request or, if not specified,\n",
        "    # the automatically-detected language.\n",
        "    print(u\"Language of the text: {}\".format(response.language))\n"
      ],
      "execution_count": null,
      "outputs": []
    },
    {
      "cell_type": "code",
      "metadata": {
        "colab": {
          "base_uri": "https://localhost:8080/"
        },
        "id": "hbC2OeFBguYh",
        "outputId": "2c024c26-b53b-4213-8703-4642fd334699"
      },
      "source": [
        "sample_analyze_sentiment('gs://publika/testej.csv')"
      ],
      "execution_count": null,
      "outputs": [
        {
          "output_type": "stream",
          "text": [
            "Document sentiment score: 0.10000000149011612\n",
            "Document sentiment magnitude: 3.0\n",
            "Sentence text: text;\r\n",
            "Esta noticia de la FM “Al parecer el ingeniero Camilo Vélez se habría negado a pagar el ‘peaje’ y por eso fue templado el cable que acabó con su vida cerca del portal de las Américas”;\r\n",
            "Protestas violentas en ocho puntos de Bogotá dejaron 12 policías heridos y 22 buses afectados https://t.co/7mftC6kEto;\r\n",
            "\"Necesitamos a los jóvenes en la Primera Línea;\n",
            "Sentence sentiment score: 0.0\n",
            "Sentence sentiment magnitude: 0.0\n",
            "Sentence text: En la Primera Línea de la educación, la cultura, el deporte, el emprendimiento.\";\r\n",
            "Hospital de Leticia ha mejorado durante la intervención del Gobierno https://t.co/0c6FZEkQSC;\r\n",
            "Colombia necesita una conciencia colectiva de seguridad: Álvaro Uribe Vélez https://t.co/SRysv1lmL8 vía @lalibertdco;\r\n",
            "\"Entrevista en @RevistaSemana 28/06/21\n",
            "Sentence sentiment score: 0.30000001192092896\n",
            "Sentence sentiment magnitude: 0.30000001192092896\n",
            "Sentence text: \"\"Este país necesita una conciencia ciudadana por encima de los partidos de exigencia a la autoridad\"\"\n",
            "Sentence sentiment score: 0.0\n",
            "Sentence sentiment magnitude: 0.0\n",
            "Sentence text: https://t.co/QEmnGWQrTN https://t.co/RuPhVYAgay\";\r\n",
            "Secuestrado Rafael Herrera en Puerto Rondón Arauca empresario tolimense;\r\n",
            "(DENUNCIA) Feria de Contratos en Telemedellín para campaña antirrevocatoria.\n",
            "Sentence sentiment score: 0.20000000298023224\n",
            "Sentence sentiment magnitude: 0.20000000298023224\n",
            "Sentence text: -TERCERA PARTE: «El millonario contrato para pauta publicitaria en redes» https://t.co/vRwwwt7oV8 vía @ifm noticias;\r\n",
            "\"Café $1.465.000, Bolsa NY USD 1,62\n",
            "Sentence sentiment score: 0.10000000149011612\n",
            "Sentence sentiment magnitude: 0.10000000149011612\n",
            "Sentence text: Azúcar USD 17.23 libra\n",
            "Dólar TRM $3.713,17 Euro $4.414,45\n",
            "Oil WTI: USD 72.82 Brent: USD 74.62\n",
            "Oil Oro USD 1.778,93 onza Plata USD 26.13 onza Platino USD 1.101 onza Cobre USD 9.432,50 tonelada Níquel USD 18.611 tonelada\n",
            "https://t.co/AqMe89lLPh\";\r\n",
            "\"En @WRadioColombia 28/06/21\n",
            "Sentence sentiment score: 0.10000000149011612\n",
            "Sentence sentiment magnitude: 0.10000000149011612\n",
            "Sentence text: \"\"Una cosa fue la seguridad democrática, que tanto bien le hizo al país, y otra una acción criminal de falsos positivos y también de falsas acusaciones de ONG's de izquierda\"\" https://t.co/lm0se5Gjtd\";\r\n",
            "\"Ayer la Primera Línea volvió a mostrar su capacidad destructiva, Pasto, Barranquilla, Medellín.\n",
            "Sentence sentiment score: 0.10000000149011612\n",
            "Sentence sentiment magnitude: 0.10000000149011612\n",
            "Sentence text: Una cosa es que se resuelvan los problemas de los jóvenes y otra permitir que estos de la llamada Primera Línea sigan con destrucción y violencia\";\r\n",
            "Muy importante la denuncia de la alcaldesa Claudia López sobre los proveedores de dotación a los violentos;\r\n",
            "Buenaventura Gutiérrez Blanco falleció en Charalá Santander Venturita como lo conocían era querido por toda la comunidad.\n",
            "Sentence sentiment score: 0.0\n",
            "Sentence sentiment magnitude: 0.0\n",
            "Sentence text: Nuestra solidaridad a la familia;\r\n",
            "\"Colombia necesita una conciencia colectiva de seguridad que impulse la superación de esta violencia.\n",
            "Sentence sentiment score: 0.20000000298023224\n",
            "Sentence sentiment magnitude: 0.20000000298023224\n",
            "Sentence text: La comunidad debe exigir autoridad en todos los niveles.\n",
            "Sentence sentiment score: 0.0\n",
            "Sentence sentiment magnitude: 0.0\n",
            "Sentence text: Una cosa es enfrentar la violencia, evitarla con autoridad, y otra la solución de los problemas de los jóvenes.\";\r\n",
            "\"En @WRadioColombia 28/06/21\n",
            "Sentence sentiment score: 0.20000000298023224\n",
            "Sentence sentiment magnitude: 0.20000000298023224\n",
            "Sentence text: \"\"Una norma del Centro Democrático es tener menos gasto en burocracia, gastos generales y más apoyo a la comunidad en salud, educación, en vías.\n",
            "Sentence sentiment score: 0.10000000149011612\n",
            "Sentence sentiment magnitude: 0.10000000149011612\n",
            "Sentence text: Menos Estado burocrático, más Estado comunitario\"\" https://t.co/Qwsv8BgPOw\";\r\n",
            "\"La tragedia de la Primera Línea:\n",
            "Sentence sentiment score: 0.0\n",
            "Sentence sentiment magnitude: 0.0\n",
            "Sentence text: “Ayer viniendo de Boyacá a mi esposo y a mi, nos retuvieron las marchas cuatro horas sin dejarnos pasar.\n",
            "Sentence sentiment score: 0.30000001192092896\n",
            "Sentence sentiment magnitude: 0.30000001192092896\n",
            "Sentence text: Dos ambulancias que iban a recogernos por la emergencia del COVID , no las dejaron pasar y gente bondadosa del campo nos guió por trochas”\";\r\n",
            "Más de 30 niños de jardín infantil quedaron en medio de piedras lanzadas por manifestantes en Pasto https://t.co/0Qrkhf8JRN;\r\n",
            "\"En @WRadioColombia 28/06/21\n",
            "Sentence sentiment score: 0.0\n",
            "Sentence sentiment magnitude: 0.0\n",
            "Sentence text: \"\"Para nosotros lo prioritario tiene que ser hoy, resolver este problema de orden público, este problema de necesidad de ahorro en el Estado, este problema de política social ampliada.\n",
            "Sentence sentiment score: 0.0\n",
            "Sentence sentiment magnitude: 0.0\n",
            "Sentence text: Tiene que ser la obsesión del Centro Democrático\"\" https://t.co/LR6xKQaFl9\";\r\n",
            "Vándalos están cobrando ‘peajes’ para poder pasar por calles de Bogotá https://t.co/ItAOQjJJcl;\r\n",
            "\"\"\"La democracia siempre da caminos de esperanza, permite resolver problemas, el socialismo los anula.\n",
            "Sentence sentiment score: 0.0\n",
            "Sentence sentiment magnitude: 0.0\n",
            "Sentence text: Y aquí el enfrentamiento hoy tiene que ser la opción democrática vs.\n",
            "Sentence sentiment score: 0.20000000298023224\n",
            "Sentence sentiment magnitude: 0.20000000298023224\n",
            "Sentence text: las opciones socialistas o las opciones condescendientes con el socialismo\"\"\n",
            "Sentence sentiment score: 0.20000000298023224\n",
            "Sentence sentiment magnitude: 0.20000000298023224\n",
            "Sentence text: https://t.co/eAOJUyKO8B\";\n",
            "Sentence sentiment score: 0.0\n",
            "Sentence sentiment magnitude: 0.0\n",
            "Language of the text: es\n"
          ],
          "name": "stdout"
        }
      ]
    }
  ]
}