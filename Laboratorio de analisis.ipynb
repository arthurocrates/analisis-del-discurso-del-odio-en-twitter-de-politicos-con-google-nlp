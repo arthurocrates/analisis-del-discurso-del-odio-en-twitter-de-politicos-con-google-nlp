{
  "cells": [
    {
      "cell_type": "markdown",
      "metadata": {},
      "source": [
        "# Laboratorio para el analisis de lineas de texto"
      ]
    },
    {
      "cell_type": "markdown",
      "metadata": {},
      "source": [
        "## Instalar paquetes requeridos"
      ]
    },
    {
      "cell_type": "code",
      "execution_count": null,
      "metadata": {
        "id": "YlCN72xZMbvM"
      },
      "outputs": [],
      "source": [
        "pip install --upgrade google-cloud-language"
      ]
    },
    {
      "cell_type": "markdown",
      "metadata": {},
      "source": [
        "## Importar variable que da acceso a la API de Google Cloud NLP"
      ]
    },
    {
      "cell_type": "code",
      "execution_count": null,
      "metadata": {
        "id": "SIQ9c4KJK5uw"
      },
      "outputs": [],
      "source": [
        "import os\n",
        "\n",
        "os.environ[\n",
        "    'GOOGLE_APPLICATION_CREDENTIALS'] = '/workspaces/analisis-del-discurso-del-odio-en-twitter-de-politicos-con-google-nlp/.env/ipaj-327601-ed35ac56f5a5.json'  # En esta linea debe ir la ubicacion del archivo entre comillas\n"
      ]
    },
    {
      "cell_type": "markdown",
      "metadata": {
        "id": "HRdc2TuKgn_h"
      },
      "source": [
        "## Analisis de sentimientos y magnitudes de lineas de texto desde un archivo en Google Cloud"
      ]
    },
    {
      "cell_type": "code",
      "execution_count": null,
      "metadata": {
        "id": "8_AJpP3jghN8"
      },
      "outputs": [],
      "source": [
        "from google.cloud import language_v1\n",
        "\n",
        "\n",
        "def sample_analyze_sentiment(gcs_content_uri):\n",
        "    \"\"\"\n",
        "    Analyzing Sentiment in text file stored in Cloud Storage\n",
        "\n",
        "    Args:\n",
        "      gcs_content_uri Google Cloud Storage URI where the file content is located.\n",
        "      e.g. gs://[Your Bucket]/[Path to File]\n",
        "    \"\"\"\n",
        "\n",
        "    client = language_v1.LanguageServiceClient()\n",
        "\n",
        "    # gcs_content_uri = 'gs://cloud-samples-data/language/sentiment-positive.txt'\n",
        "\n",
        "    # Available types: PLAIN_TEXT, HTML\n",
        "    type_ = language_v1.Document.Type.PLAIN_TEXT\n",
        "\n",
        "    # Optional. If not specified, the language is automatically detected.\n",
        "    # For list of supported languages:\n",
        "    # https://cloud.google.com/natural-language/docs/languages\n",
        "    language = \"es\"\n",
        "    document = {\n",
        "        \"gcs_content_uri\": gcs_content_uri,\n",
        "        \"type_\": type_,\n",
        "        \"language\": language\n",
        "    }\n",
        "\n",
        "    # Available values: NONE, UTF8, UTF16, UTF32\n",
        "    encoding_type = language_v1.EncodingType.UTF8\n",
        "\n",
        "    response = client.analyze_sentiment(request={\n",
        "        'document': document,\n",
        "        'encoding_type': encoding_type\n",
        "    })\n",
        "    # Get overall sentiment of the input document\n",
        "    print(u\"Document sentiment score: {}\".format(\n",
        "        response.document_sentiment.score))\n",
        "    print(u\"Document sentiment magnitude: {}\".format(\n",
        "        response.document_sentiment.magnitude))\n",
        "    # Get sentiment for all sentences in the document\n",
        "    for sentence in response.sentences:\n",
        "        print((sentence.text.content), \"+\", (sentence.sentiment.score), \"+\",\n",
        "              (sentence.sentiment.magnitude))\n"
      ]
    },
    {
      "cell_type": "markdown",
      "metadata": {},
      "source": [
        "## Llamado de Funcion para el analisis de un archivo de texto plano ubicado en Google Cloud"
      ]
    },
    {
      "cell_type": "code",
      "execution_count": null,
      "metadata": {
        "colab": {
          "base_uri": "https://localhost:8080/"
        },
        "id": "hbC2OeFBguYh",
        "outputId": "2c024c26-b53b-4213-8703-4642fd334699"
      },
      "outputs": [],
      "source": [
        "sample_analyze_sentiment('gs://testojpublikaj/oiz.txt')"
      ]
    }
  ],
  "metadata": {
    "colab": {
      "name": "muestras de código de la API de Natural Language.ipynb",
      "provenance": []
    },
    "interpreter": {
      "hash": "d4d1e4263499bec80672ea0156c357c1ee493ec2b1c70f0acce89fc37c4a6abe"
    },
    "kernelspec": {
      "display_name": "Python 3.9.10 ('base')",
      "language": "python",
      "name": "python3"
    },
    "language_info": {
      "codemirror_mode": {
        "name": "ipython",
        "version": 3
      },
      "file_extension": ".py",
      "mimetype": "text/x-python",
      "name": "python",
      "nbconvert_exporter": "python",
      "pygments_lexer": "ipython3",
      "version": "3.9.12"
    }
  },
  "nbformat": 4,
  "nbformat_minor": 0
}
